{
  "nbformat": 4,
  "nbformat_minor": 0,
  "metadata": {
    "colab": {
      "name": "Sentence Segmentation.ipynb",
      "provenance": []
    },
    "kernelspec": {
      "name": "python3",
      "display_name": "Python 3"
    }
  },
  "cells": [
    {
      "cell_type": "code",
      "metadata": {
        "id": "ZT5ddLO158EA",
        "colab_type": "code",
        "colab": {}
      },
      "source": [
        "import spacy"
      ],
      "execution_count": 0,
      "outputs": []
    },
    {
      "cell_type": "code",
      "metadata": {
        "id": "pM2PYvvF_Tgu",
        "colab_type": "code",
        "colab": {}
      },
      "source": [
        "nlp = spacy.load('en_core_web_sm')"
      ],
      "execution_count": 0,
      "outputs": []
    },
    {
      "cell_type": "code",
      "metadata": {
        "id": "7UT6wd4G_TrF",
        "colab_type": "code",
        "colab": {}
      },
      "source": [
        "doc = nlp(u\"This is the first sentence. This is the second sentence. This page is third sentence\")"
      ],
      "execution_count": 0,
      "outputs": []
    },
    {
      "cell_type": "code",
      "metadata": {
        "id": "HLe4lcvo_Tvj",
        "colab_type": "code",
        "outputId": "0c7131de-2f85-4a73-ec4f-0764e6a9eebe",
        "colab": {
          "base_uri": "https://localhost:8080/",
          "height": 70
        }
      },
      "source": [
        "for sent in doc.sents:\n",
        "  print(sent)"
      ],
      "execution_count": 0,
      "outputs": [
        {
          "output_type": "stream",
          "text": [
            "This is the first sentence.\n",
            "This is the second sentence.\n",
            "This page is third sentence\n"
          ],
          "name": "stdout"
        }
      ]
    },
    {
      "cell_type": "code",
      "metadata": {
        "id": "Z-5JAg_i_Tpl",
        "colab_type": "code",
        "outputId": "a3110f8e-315c-4aa0-e070-14bbd96f3849",
        "colab": {
          "base_uri": "https://localhost:8080/",
          "height": 70
        }
      },
      "source": [
        "list(doc.sents)"
      ],
      "execution_count": 0,
      "outputs": [
        {
          "output_type": "execute_result",
          "data": {
            "text/plain": [
              "[This is the first sentence.,\n",
              " This is the second sentence.,\n",
              " This page is third sentence]"
            ]
          },
          "metadata": {
            "tags": []
          },
          "execution_count": 5
        }
      ]
    },
    {
      "cell_type": "code",
      "metadata": {
        "id": "njoiOcC8_Tlr",
        "colab_type": "code",
        "outputId": "8e58b566-b37d-41fb-ab83-c369afc03cd0",
        "colab": {
          "base_uri": "https://localhost:8080/",
          "height": 34
        }
      },
      "source": [
        "list(doc.sents)[0]"
      ],
      "execution_count": 0,
      "outputs": [
        {
          "output_type": "execute_result",
          "data": {
            "text/plain": [
              "This is the first sentence."
            ]
          },
          "metadata": {
            "tags": []
          },
          "execution_count": 6
        }
      ]
    },
    {
      "cell_type": "code",
      "metadata": {
        "id": "l3huFV9H_TkQ",
        "colab_type": "code",
        "outputId": "e97f7df0-cdf5-4c6c-cef1-d4e3d14df8b3",
        "colab": {
          "base_uri": "https://localhost:8080/",
          "height": 34
        }
      },
      "source": [
        "type(list(doc.sents)[0])"
      ],
      "execution_count": 0,
      "outputs": [
        {
          "output_type": "execute_result",
          "data": {
            "text/plain": [
              "spacy.tokens.span.Span"
            ]
          },
          "metadata": {
            "tags": []
          },
          "execution_count": 8
        }
      ]
    },
    {
      "cell_type": "code",
      "metadata": {
        "id": "jOa4kGZ2APmn",
        "colab_type": "code",
        "colab": {}
      },
      "source": [
        "doc = nlp(u'\"Management is doing the right thing; leadershio is doing thje right thing. -Peter Drucker\"')"
      ],
      "execution_count": 0,
      "outputs": []
    },
    {
      "cell_type": "code",
      "metadata": {
        "id": "BS_CEMeAAPuu",
        "colab_type": "code",
        "outputId": "0926e98e-42f2-4bcb-e755-12bc5315ad84",
        "colab": {
          "base_uri": "https://localhost:8080/",
          "height": 176
        }
      },
      "source": [
        "for sent in doc.sents:\n",
        "  print(sent)\n",
        "  print('\\n')"
      ],
      "execution_count": 0,
      "outputs": [
        {
          "output_type": "stream",
          "text": [
            "\"\n",
            "\n",
            "\n",
            "Management is doing the right thing; leadershio is doing thje right thing.\n",
            "\n",
            "\n",
            "-Peter Drucker\"\n",
            "\n",
            "\n"
          ],
          "name": "stdout"
        }
      ]
    },
    {
      "cell_type": "code",
      "metadata": {
        "id": "SuHHjXPdAP34",
        "colab_type": "code",
        "colab": {}
      },
      "source": [
        "def set_custom_boundraies(doc):\n",
        "  for token in doc:\n",
        "    print(token.i)\n",
        "    print(token)"
      ],
      "execution_count": 0,
      "outputs": []
    },
    {
      "cell_type": "code",
      "metadata": {
        "id": "bxCq4af1AQAT",
        "colab_type": "code",
        "outputId": "89f4f0f3-e931-4056-99bb-598ee446206b",
        "colab": {
          "base_uri": "https://localhost:8080/",
          "height": 656
        }
      },
      "source": [
        "set_custom_boundraies(doc)"
      ],
      "execution_count": 0,
      "outputs": [
        {
          "output_type": "stream",
          "text": [
            "0\n",
            "\"\n",
            "1\n",
            "Management\n",
            "2\n",
            "is\n",
            "3\n",
            "doing\n",
            "4\n",
            "the\n",
            "5\n",
            "right\n",
            "6\n",
            "thing\n",
            "7\n",
            ";\n",
            "8\n",
            "leadershio\n",
            "9\n",
            "is\n",
            "10\n",
            "doing\n",
            "11\n",
            "thje\n",
            "12\n",
            "right\n",
            "13\n",
            "thing\n",
            "14\n",
            ".\n",
            "15\n",
            "-Peter\n",
            "16\n",
            "Drucker\n",
            "17\n",
            "\"\n"
          ],
          "name": "stdout"
        }
      ]
    },
    {
      "cell_type": "code",
      "metadata": {
        "id": "hdsCIfQtAQFj",
        "colab_type": "code",
        "colab": {}
      },
      "source": [
        "def set_custom_boundraies3(doc):\n",
        "  for token in doc[:-1]:\n",
        "    if token.text==';':\n",
        "      doc[token.i+1].is_sent_start = True\n",
        "    return doc"
      ],
      "execution_count": 0,
      "outputs": []
    },
    {
      "cell_type": "code",
      "metadata": {
        "id": "vIZJpZpUAP-U",
        "colab_type": "code",
        "colab": {}
      },
      "source": [
        "nlp.add_pipe(set_custom_boundraies3, before='parser')"
      ],
      "execution_count": 0,
      "outputs": []
    },
    {
      "cell_type": "code",
      "metadata": {
        "id": "YX_b9LmQ_Tei",
        "colab_type": "code",
        "outputId": "1273d125-06f1-4511-afa8-c41dbdb6bcb0",
        "colab": {
          "base_uri": "https://localhost:8080/",
          "height": 123
        }
      },
      "source": [
        "nlp.pipe_names"
      ],
      "execution_count": 0,
      "outputs": [
        {
          "output_type": "execute_result",
          "data": {
            "text/plain": [
              "['tagger',\n",
              " 'set_custom_boundraies2',\n",
              " 'set_custom_boundraies',\n",
              " 'set_custom_boundraies3',\n",
              " 'parser',\n",
              " 'ner']"
            ]
          },
          "metadata": {
            "tags": []
          },
          "execution_count": 46
        }
      ]
    },
    {
      "cell_type": "code",
      "metadata": {
        "id": "-bAK-3JXC8Z3",
        "colab_type": "code",
        "colab": {}
      },
      "source": [
        "doc = nlp(u'\"Management is doing the right thing;leadership is doing the right thing.\" -Peter Drucker')"
      ],
      "execution_count": 0,
      "outputs": []
    },
    {
      "cell_type": "code",
      "metadata": {
        "id": "TIKJaKRZC8kN",
        "colab_type": "code",
        "outputId": "1d59c51d-ced0-494a-cac0-9efe686515c4",
        "colab": {
          "base_uri": "https://localhost:8080/",
          "height": 70
        }
      },
      "source": [
        "for sent in doc.sents:\n",
        "  print(sent)"
      ],
      "execution_count": 0,
      "outputs": [
        {
          "output_type": "stream",
          "text": [
            "\"\n",
            "Management is doing the right thing;leadership is doing the right thing.\n",
            "\" -Peter Drucker\n"
          ],
          "name": "stdout"
        }
      ]
    },
    {
      "cell_type": "code",
      "metadata": {
        "id": "IiBhemNbC8ud",
        "colab_type": "code",
        "colab": {}
      },
      "source": [
        "nlp = spacy.load('en_core_web_sm')"
      ],
      "execution_count": 0,
      "outputs": []
    },
    {
      "cell_type": "code",
      "metadata": {
        "id": "dyzb5GIiC8tW",
        "colab_type": "code",
        "colab": {}
      },
      "source": [
        "mystring = (u\"This is a sentence. This is another.\\n\\nThis is a \\nthird sentence.\")"
      ],
      "execution_count": 0,
      "outputs": []
    },
    {
      "cell_type": "code",
      "metadata": {
        "id": "Xj9C8NgxC8sH",
        "colab_type": "code",
        "outputId": "2de387fa-241d-4cb7-ffb8-0f6c0dd15b9f",
        "colab": {
          "base_uri": "https://localhost:8080/",
          "height": 87
        }
      },
      "source": [
        "print(mystring)"
      ],
      "execution_count": 0,
      "outputs": [
        {
          "output_type": "stream",
          "text": [
            "This is a sentence. This is another.\n",
            "\n",
            "This is a \n",
            "third sentence.\n"
          ],
          "name": "stdout"
        }
      ]
    },
    {
      "cell_type": "code",
      "metadata": {
        "id": "QIIkVtjUC8p6",
        "colab_type": "code",
        "colab": {}
      },
      "source": [
        "doc = nlp(mystring)"
      ],
      "execution_count": 0,
      "outputs": []
    },
    {
      "cell_type": "code",
      "metadata": {
        "id": "X-_An2OfC8i8",
        "colab_type": "code",
        "outputId": "e45a1853-a73c-43c4-f729-ab2fb4600d19",
        "colab": {
          "base_uri": "https://localhost:8080/",
          "height": 123
        }
      },
      "source": [
        "for sentence in doc.sents:\n",
        "  print(sentence)"
      ],
      "execution_count": 0,
      "outputs": [
        {
          "output_type": "stream",
          "text": [
            "This is a sentence.\n",
            "This is another.\n",
            "\n",
            "\n",
            "This is a \n",
            "third sentence.\n"
          ],
          "name": "stdout"
        }
      ]
    },
    {
      "cell_type": "code",
      "metadata": {
        "id": "lpDQKLB8C8hE",
        "colab_type": "code",
        "colab": {}
      },
      "source": [
        "from spacy.pipeline import SentenceSegmenter"
      ],
      "execution_count": 0,
      "outputs": []
    },
    {
      "cell_type": "code",
      "metadata": {
        "id": "l7tGS6a3C8fb",
        "colab_type": "code",
        "colab": {}
      },
      "source": [
        "def split_on_newlines(doc):\n",
        "  start = 0\n",
        "  seen_newline = False\n",
        "\n",
        "  for word in doc:\n",
        "    if seen_newline:\n",
        "      yield doc[start:word.i]\n",
        "      start = word.i\n",
        "      seen_newline = False\n",
        "    elif word.text.startswith('\\n'):\n",
        "        seen_newline = True\n",
        "  yield doc[start:]\n"
      ],
      "execution_count": 0,
      "outputs": []
    },
    {
      "cell_type": "code",
      "metadata": {
        "id": "IoNhCCq2G0mm",
        "colab_type": "code",
        "colab": {}
      },
      "source": [
        "sbd = SentenceSegmenter(nlp.vocab, strategy=split_on_newlines)"
      ],
      "execution_count": 0,
      "outputs": []
    },
    {
      "cell_type": "code",
      "metadata": {
        "id": "KcKoVMDlG0zM",
        "colab_type": "code",
        "colab": {}
      },
      "source": [
        "nlp.add_pipe(sbd)"
      ],
      "execution_count": 0,
      "outputs": []
    },
    {
      "cell_type": "code",
      "metadata": {
        "id": "aW2odHz6G0-9",
        "colab_type": "code",
        "colab": {}
      },
      "source": [
        "doc = nlp(mystring)"
      ],
      "execution_count": 0,
      "outputs": []
    },
    {
      "cell_type": "code",
      "metadata": {
        "id": "MwWcwP79HWDX",
        "colab_type": "code",
        "outputId": "d5b8e48e-d53d-44f1-ad23-759e19c82c90",
        "colab": {
          "base_uri": "https://localhost:8080/",
          "height": 123
        }
      },
      "source": [
        "for sentence in doc.sents:\n",
        "  print(sentence)"
      ],
      "execution_count": 0,
      "outputs": [
        {
          "output_type": "stream",
          "text": [
            "This is a sentence. This is another.\n",
            "\n",
            "\n",
            "This is a \n",
            "\n",
            "third sentence.\n"
          ],
          "name": "stdout"
        }
      ]
    },
    {
      "cell_type": "code",
      "metadata": {
        "id": "3Yu9tRZDHWWt",
        "colab_type": "code",
        "colab": {}
      },
      "source": [
        ""
      ],
      "execution_count": 0,
      "outputs": []
    }
  ]
}